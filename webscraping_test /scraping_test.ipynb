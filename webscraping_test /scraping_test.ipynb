{
 "cells": [
  {
   "cell_type": "code",
   "execution_count": 7,
   "id": "0aafcb49",
   "metadata": {},
   "outputs": [],
   "source": [
    "# Import Splinter and Beautiful Soup\n",
    "from splinter import Browser\n",
    "from bs4 import BeautifulSoup as soup\n",
    "from webdriver_manager.chrome import ChromeDriverManager\n",
    "import pandas as pd"
   ]
  },
  {
   "cell_type": "code",
   "execution_count": 8,
   "id": "ee118e51",
   "metadata": {},
   "outputs": [
    {
     "name": "stderr",
     "output_type": "stream",
     "text": [
      "\n",
      "\n",
      "====== WebDriver manager ======\n",
      "Current google-chrome version is 101.0.4951\n",
      "Get LATEST chromedriver version for 101.0.4951 google-chrome\n",
      "There is no [mac64] chromedriver for browser  in cache\n",
      "Trying to download new driver from https://chromedriver.storage.googleapis.com/101.0.4951.41/chromedriver_mac64.zip\n",
      "Driver has been saved in cache [/Users/tiananicole/.wdm/drivers/chromedriver/mac64/101.0.4951.41]\n"
     ]
    }
   ],
   "source": [
    "# Set Executable Path\n",
    "executable_path = {'executable_path': ChromeDriverManager().install()}\n",
    "browser = Browser('chrome', **executable_path, headless = False)"
   ]
  },
  {
   "cell_type": "code",
   "execution_count": 9,
   "id": "5be54e9c",
   "metadata": {},
   "outputs": [
    {
     "data": {
      "text/plain": [
       "False"
      ]
     },
     "execution_count": 9,
     "metadata": {},
     "output_type": "execute_result"
    }
   ],
   "source": [
    "# Visit the site\n",
    "url = 'https://www.basketball-reference.com/'\n",
    "browser.visit(url)\n",
    "\n",
    "# Optional delay for loading the page\n",
    "browser.is_element_present_by_css('div.list_text', wait_time = 1)"
   ]
  },
  {
   "cell_type": "code",
   "execution_count": 25,
   "id": "94cd6ed2",
   "metadata": {},
   "outputs": [],
   "source": [
    "# Set up the html parser\n",
    "html = browser.html\n",
    "basketball_soup = soup(html, 'html.parser')"
   ]
  },
  {
   "cell_type": "code",
   "execution_count": 29,
   "id": "3679aabd",
   "metadata": {},
   "outputs": [
    {
     "data": {
      "text/plain": [
       "<div class=\"\" id=\"teams\">\n",
       "<h2><a href=\"/teams/\">Every NBA Team</a></h2>\n",
       "<h3>2021-22 NBA Standings</h3>\n",
       "<p>\n",
       "<small>\n",
       "<a href=\"/leagues/NBA_2022.html\">Summary</a>\n",
       "     · \n",
       "    <a href=\"/leagues/NBA_2022_games.html\">Schedule</a>\n",
       "     · \n",
       "    <a href=\"/boxscores/\">Scores</a>\n",
       "     · \n",
       "    <a href=\"/leagues/NBA_2022_leaders.html\">Leaders</a>\n",
       "     · \n",
       "    <a href=\"/leagues/NBA_2022_rookies.html\">Rookies</a>\n",
       "</small>\n",
       "</p>\n",
       "<div class=\"data_grid section_wrapper\">\n",
       "<div class=\"table_wrapper\" id=\"all_confs_standings_E\">\n",
       "<div class=\"section_heading assoc_confs_standings_E\" id=\"confs_standings_E_sh\">\n",
       "<span class=\"section_anchor\" data-label=\"\" id=\"confs_standings_E_link\"></span><h2></h2> <div class=\"section_heading_text\">\n",
       "<ul>\n",
       "</ul>\n",
       "</div>\n",
       "</div>\n",
       "<div class=\"table_container is_setup\" id=\"div_confs_standings_E\">\n",
       "<table class=\"suppress_all sortable stats_table now_sortable\" data-cols-to-freeze=\",1\" id=\"confs_standings_E\">\n",
       "<caption> Table</caption>\n",
       "<colgroup><col/><col/><col/><col/><col/></colgroup>\n",
       "<thead>\n",
       "<tr>\n",
       "<th aria-label=\"East\" class=\"poptip sort_default_asc left\" data-stat=\"team_name\" scope=\"col\">East</th>\n",
       "<th aria-label=\" \" class=\"poptip center\" data-stat=\"franchise_text\" scope=\"col\"> </th>\n",
       "<th aria-label=\" \" class=\"poptip center\" data-stat=\"payroll_text\" scope=\"col\"> </th>\n",
       "<th aria-label=\"Wins\" class=\"poptip right\" data-stat=\"wins\" data-tip=\"Wins\" scope=\"col\">W</th>\n",
       "<th aria-label=\"Losses\" class=\"poptip right\" data-stat=\"losses\" data-tip=\"Losses\" scope=\"col\">L</th>\n",
       "</tr>\n",
       "</thead>\n",
       "<tbody><tr class=\"full_table\" data-row=\"0\"><th class=\"left\" data-stat=\"team_name\" scope=\"row\"><a href=\"/teams/MIA/2022.html\" title=\"Miami Heat\">MIA</a> * <span class=\"seed\">(1) </span></th><td class=\"center\" data-stat=\"franchise_text\"><a href=\"/teams/MIA/\" title=\"Miami Heat Franchise Index\">F</a></td><td class=\"right\" data-stat=\"payroll_text\"><a href=\"/contracts/MIA.html\" title=\"Miami Heat Team Payroll\">$</a></td><td class=\"right\" data-stat=\"wins\">53</td><td class=\"right\" data-stat=\"losses\">29</td></tr>\n",
       "<tr class=\"full_table\" data-row=\"1\"><th class=\"left\" data-stat=\"team_name\" scope=\"row\"><a href=\"/teams/BOS/2022.html\" title=\"Boston Celtics\">BOS</a> * <span class=\"seed\">(2) </span></th><td class=\"center\" data-stat=\"franchise_text\"><a href=\"/teams/BOS/\" title=\"Boston Celtics Franchise Index\">F</a></td><td class=\"right\" data-stat=\"payroll_text\"><a href=\"/contracts/BOS.html\" title=\"Boston Celtics Team Payroll\">$</a></td><td class=\"right\" data-stat=\"wins\">51</td><td class=\"right\" data-stat=\"losses\">31</td></tr>\n",
       "<tr class=\"full_table\" data-row=\"2\"><th class=\"left\" data-stat=\"team_name\" scope=\"row\"><a href=\"/teams/MIL/2022.html\" title=\"Milwaukee Bucks\">MIL</a> * <span class=\"seed\">(3) </span></th><td class=\"center\" data-stat=\"franchise_text\"><a href=\"/teams/MIL/\" title=\"Milwaukee Bucks Franchise Index\">F</a></td><td class=\"right\" data-stat=\"payroll_text\"><a href=\"/contracts/MIL.html\" title=\"Milwaukee Bucks Team Payroll\">$</a></td><td class=\"right\" data-stat=\"wins\">51</td><td class=\"right\" data-stat=\"losses\">31</td></tr>\n",
       "<tr class=\"full_table\" data-row=\"3\"><th class=\"left\" data-stat=\"team_name\" scope=\"row\"><a href=\"/teams/PHI/2022.html\" title=\"Philadelphia 76ers\">PHI</a> * <span class=\"seed\">(4) </span></th><td class=\"center\" data-stat=\"franchise_text\"><a href=\"/teams/PHI/\" title=\"Philadelphia 76ers Franchise Index\">F</a></td><td class=\"right\" data-stat=\"payroll_text\"><a href=\"/contracts/PHI.html\" title=\"Philadelphia 76ers Team Payroll\">$</a></td><td class=\"right\" data-stat=\"wins\">51</td><td class=\"right\" data-stat=\"losses\">31</td></tr>\n",
       "<tr class=\"full_table\" data-row=\"4\"><th class=\"left\" data-stat=\"team_name\" scope=\"row\"><a href=\"/teams/TOR/2022.html\" title=\"Toronto Raptors\">TOR</a> * <span class=\"seed\">(5) </span></th><td class=\"center\" data-stat=\"franchise_text\"><a href=\"/teams/TOR/\" title=\"Toronto Raptors Franchise Index\">F</a></td><td class=\"right\" data-stat=\"payroll_text\"><a href=\"/contracts/TOR.html\" title=\"Toronto Raptors Team Payroll\">$</a></td><td class=\"right\" data-stat=\"wins\">48</td><td class=\"right\" data-stat=\"losses\">34</td></tr>\n",
       "<tr class=\"full_table\" data-row=\"5\"><th class=\"left\" data-stat=\"team_name\" scope=\"row\"><a href=\"/teams/CHI/2022.html\" title=\"Chicago Bulls\">CHI</a> * <span class=\"seed\">(6) </span></th><td class=\"center\" data-stat=\"franchise_text\"><a href=\"/teams/CHI/\" title=\"Chicago Bulls Franchise Index\">F</a></td><td class=\"right\" data-stat=\"payroll_text\"><a href=\"/contracts/CHI.html\" title=\"Chicago Bulls Team Payroll\">$</a></td><td class=\"right\" data-stat=\"wins\">46</td><td class=\"right\" data-stat=\"losses\">36</td></tr>\n",
       "<tr class=\"full_table\" data-row=\"6\"><th class=\"left\" data-stat=\"team_name\" scope=\"row\"><a href=\"/teams/BRK/2022.html\" title=\"Brooklyn Nets\">BRK</a> * <span class=\"seed\">(7) </span></th><td class=\"center\" data-stat=\"franchise_text\"><a href=\"/teams/NJN/\" title=\"Brooklyn Nets Franchise Index\">F</a></td><td class=\"right\" data-stat=\"payroll_text\"><a href=\"/contracts/BRK.html\" title=\"Brooklyn Nets Team Payroll\">$</a></td><td class=\"right\" data-stat=\"wins\">44</td><td class=\"right\" data-stat=\"losses\">38</td></tr>\n",
       "<tr class=\"full_table\" data-row=\"7\"><th class=\"left\" data-stat=\"team_name\" scope=\"row\"><a href=\"/teams/CLE/2022.html\" title=\"Cleveland Cavaliers\">CLE</a> x <span class=\"seed\">(8) </span></th><td class=\"center\" data-stat=\"franchise_text\"><a href=\"/teams/CLE/\" title=\"Cleveland Cavaliers Franchise Index\">F</a></td><td class=\"right\" data-stat=\"payroll_text\"><a href=\"/contracts/CLE.html\" title=\"Cleveland Cavaliers Team Payroll\">$</a></td><td class=\"right\" data-stat=\"wins\">44</td><td class=\"right\" data-stat=\"losses\">38</td></tr>\n",
       "<tr class=\"full_table\" data-row=\"8\"><th class=\"left\" data-stat=\"team_name\" scope=\"row\"><a href=\"/teams/ATL/2022.html\" title=\"Atlanta Hawks\">ATL</a> * <span class=\"seed\">(9) </span></th><td class=\"center\" data-stat=\"franchise_text\"><a href=\"/teams/ATL/\" title=\"Atlanta Hawks Franchise Index\">F</a></td><td class=\"right\" data-stat=\"payroll_text\"><a href=\"/contracts/ATL.html\" title=\"Atlanta Hawks Team Payroll\">$</a></td><td class=\"right\" data-stat=\"wins\">43</td><td class=\"right\" data-stat=\"losses\">39</td></tr>\n",
       "<tr class=\"full_table\" data-row=\"9\"><th class=\"left\" data-stat=\"team_name\" scope=\"row\"><a href=\"/teams/CHO/2022.html\" title=\"Charlotte Hornets\">CHO</a> x <span class=\"seed\">(10) </span></th><td class=\"center\" data-stat=\"franchise_text\"><a href=\"/teams/CHA/\" title=\"Charlotte Hornets Franchise Index\">F</a></td><td class=\"right\" data-stat=\"payroll_text\"><a href=\"/contracts/CHO.html\" title=\"Charlotte Hornets Team Payroll\">$</a></td><td class=\"right\" data-stat=\"wins\">43</td><td class=\"right\" data-stat=\"losses\">39</td></tr>\n",
       "<tr class=\"full_table\" data-row=\"10\"><th class=\"left\" data-stat=\"team_name\" scope=\"row\"><a href=\"/teams/NYK/2022.html\" title=\"New York Knicks\">NYK</a> x <span class=\"seed\">(11) </span></th><td class=\"center\" data-stat=\"franchise_text\"><a href=\"/teams/NYK/\" title=\"New York Knicks Franchise Index\">F</a></td><td class=\"right\" data-stat=\"payroll_text\"><a href=\"/contracts/NYK.html\" title=\"New York Knicks Team Payroll\">$</a></td><td class=\"right\" data-stat=\"wins\">37</td><td class=\"right\" data-stat=\"losses\">45</td></tr>\n",
       "<tr class=\"full_table\" data-row=\"11\"><th class=\"left\" data-stat=\"team_name\" scope=\"row\"><a href=\"/teams/WAS/2022.html\" title=\"Washington Wizards\">WAS</a> x <span class=\"seed\">(12) </span></th><td class=\"center\" data-stat=\"franchise_text\"><a href=\"/teams/WAS/\" title=\"Washington Wizards Franchise Index\">F</a></td><td class=\"right\" data-stat=\"payroll_text\"><a href=\"/contracts/WAS.html\" title=\"Washington Wizards Team Payroll\">$</a></td><td class=\"right\" data-stat=\"wins\">35</td><td class=\"right\" data-stat=\"losses\">47</td></tr>\n",
       "<tr class=\"full_table\" data-row=\"12\"><th class=\"left\" data-stat=\"team_name\" scope=\"row\"><a href=\"/teams/IND/2022.html\" title=\"Indiana Pacers\">IND</a> x <span class=\"seed\">(13) </span></th><td class=\"center\" data-stat=\"franchise_text\"><a href=\"/teams/IND/\" title=\"Indiana Pacers Franchise Index\">F</a></td><td class=\"right\" data-stat=\"payroll_text\"><a href=\"/contracts/IND.html\" title=\"Indiana Pacers Team Payroll\">$</a></td><td class=\"right\" data-stat=\"wins\">25</td><td class=\"right\" data-stat=\"losses\">57</td></tr>\n",
       "<tr class=\"full_table\" data-row=\"13\"><th class=\"left\" data-stat=\"team_name\" scope=\"row\"><a href=\"/teams/DET/2022.html\" title=\"Detroit Pistons\">DET</a> x <span class=\"seed\">(14) </span></th><td class=\"center\" data-stat=\"franchise_text\"><a href=\"/teams/DET/\" title=\"Detroit Pistons Franchise Index\">F</a></td><td class=\"right\" data-stat=\"payroll_text\"><a href=\"/contracts/DET.html\" title=\"Detroit Pistons Team Payroll\">$</a></td><td class=\"right\" data-stat=\"wins\">23</td><td class=\"right\" data-stat=\"losses\">59</td></tr>\n",
       "<tr class=\"full_table\" data-row=\"14\"><th class=\"left\" data-stat=\"team_name\" scope=\"row\"><a href=\"/teams/ORL/2022.html\" title=\"Orlando Magic\">ORL</a> x <span class=\"seed\">(15) </span></th><td class=\"center\" data-stat=\"franchise_text\"><a href=\"/teams/ORL/\" title=\"Orlando Magic Franchise Index\">F</a></td><td class=\"right\" data-stat=\"payroll_text\"><a href=\"/contracts/ORL.html\" title=\"Orlando Magic Team Payroll\">$</a></td><td class=\"right\" data-stat=\"wins\">22</td><td class=\"right\" data-stat=\"losses\">60</td></tr>\n",
       "</tbody></table>\n",
       "</div>\n",
       "</div>\n",
       "<div class=\"table_wrapper\" id=\"all_confs_standings_W\">\n",
       "<div class=\"section_heading assoc_confs_standings_W\" id=\"confs_standings_W_sh\">\n",
       "<span class=\"section_anchor\" data-label=\"\" id=\"confs_standings_W_link\"></span><h2></h2> <div class=\"section_heading_text\">\n",
       "<ul>\n",
       "</ul>\n",
       "</div>\n",
       "</div>\n",
       "<div class=\"table_container is_setup\" id=\"div_confs_standings_W\">\n",
       "<table class=\"suppress_all sortable stats_table now_sortable\" data-cols-to-freeze=\",1\" id=\"confs_standings_W\">\n",
       "<caption> Table</caption>\n",
       "<colgroup><col/><col/><col/><col/><col/></colgroup>\n",
       "<thead>\n",
       "<tr>\n",
       "<th aria-label=\"West\" class=\"poptip sort_default_asc left\" data-stat=\"team_name\" scope=\"col\">West</th>\n",
       "<th aria-label=\" \" class=\"poptip center\" data-stat=\"franchise_text\" scope=\"col\"> </th>\n",
       "<th aria-label=\" \" class=\"poptip center\" data-stat=\"payroll_text\" scope=\"col\"> </th>\n",
       "<th aria-label=\"Wins\" class=\"poptip right\" data-stat=\"wins\" data-tip=\"Wins\" scope=\"col\">W</th>\n",
       "<th aria-label=\"Losses\" class=\"poptip right\" data-stat=\"losses\" data-tip=\"Losses\" scope=\"col\">L</th>\n",
       "</tr>\n",
       "</thead>\n",
       "<tbody><tr class=\"full_table\" data-row=\"0\"><th class=\"left\" data-stat=\"team_name\" scope=\"row\"><a href=\"/teams/PHO/2022.html\" title=\"Phoenix Suns\">PHO</a> * <span class=\"seed\">(1) </span></th><td class=\"center\" data-stat=\"franchise_text\"><a href=\"/teams/PHO/\" title=\"Phoenix Suns Franchise Index\">F</a></td><td class=\"right\" data-stat=\"payroll_text\"><a href=\"/contracts/PHO.html\" title=\"Phoenix Suns Team Payroll\">$</a></td><td class=\"right\" data-stat=\"wins\">64</td><td class=\"right\" data-stat=\"losses\">18</td></tr>\n",
       "<tr class=\"full_table\" data-row=\"1\"><th class=\"left\" data-stat=\"team_name\" scope=\"row\"><a href=\"/teams/MEM/2022.html\" title=\"Memphis Grizzlies\">MEM</a> * <span class=\"seed\">(2) </span></th><td class=\"center\" data-stat=\"franchise_text\"><a href=\"/teams/MEM/\" title=\"Memphis Grizzlies Franchise Index\">F</a></td><td class=\"right\" data-stat=\"payroll_text\"><a href=\"/contracts/MEM.html\" title=\"Memphis Grizzlies Team Payroll\">$</a></td><td class=\"right\" data-stat=\"wins\">56</td><td class=\"right\" data-stat=\"losses\">26</td></tr>\n",
       "<tr class=\"full_table\" data-row=\"2\"><th class=\"left\" data-stat=\"team_name\" scope=\"row\"><a href=\"/teams/GSW/2022.html\" title=\"Golden State Warriors\">GSW</a> * <span class=\"seed\">(3) </span></th><td class=\"center\" data-stat=\"franchise_text\"><a href=\"/teams/GSW/\" title=\"Golden State Warriors Franchise Index\">F</a></td><td class=\"right\" data-stat=\"payroll_text\"><a href=\"/contracts/GSW.html\" title=\"Golden State Warriors Team Payroll\">$</a></td><td class=\"right\" data-stat=\"wins\">53</td><td class=\"right\" data-stat=\"losses\">29</td></tr>\n",
       "<tr class=\"full_table\" data-row=\"3\"><th class=\"left\" data-stat=\"team_name\" scope=\"row\"><a href=\"/teams/DAL/2022.html\" title=\"Dallas Mavericks\">DAL</a> * <span class=\"seed\">(4) </span></th><td class=\"center\" data-stat=\"franchise_text\"><a href=\"/teams/DAL/\" title=\"Dallas Mavericks Franchise Index\">F</a></td><td class=\"right\" data-stat=\"payroll_text\"><a href=\"/contracts/DAL.html\" title=\"Dallas Mavericks Team Payroll\">$</a></td><td class=\"right\" data-stat=\"wins\">52</td><td class=\"right\" data-stat=\"losses\">30</td></tr>\n",
       "<tr class=\"full_table\" data-row=\"4\"><th class=\"left\" data-stat=\"team_name\" scope=\"row\"><a href=\"/teams/UTA/2022.html\" title=\"Utah Jazz\">UTA</a> * <span class=\"seed\">(5) </span></th><td class=\"center\" data-stat=\"franchise_text\"><a href=\"/teams/UTA/\" title=\"Utah Jazz Franchise Index\">F</a></td><td class=\"right\" data-stat=\"payroll_text\"><a href=\"/contracts/UTA.html\" title=\"Utah Jazz Team Payroll\">$</a></td><td class=\"right\" data-stat=\"wins\">49</td><td class=\"right\" data-stat=\"losses\">33</td></tr>\n",
       "<tr class=\"full_table\" data-row=\"5\"><th class=\"left\" data-stat=\"team_name\" scope=\"row\"><a href=\"/teams/DEN/2022.html\" title=\"Denver Nuggets\">DEN</a> * <span class=\"seed\">(6) </span></th><td class=\"center\" data-stat=\"franchise_text\"><a href=\"/teams/DEN/\" title=\"Denver Nuggets Franchise Index\">F</a></td><td class=\"right\" data-stat=\"payroll_text\"><a href=\"/contracts/DEN.html\" title=\"Denver Nuggets Team Payroll\">$</a></td><td class=\"right\" data-stat=\"wins\">48</td><td class=\"right\" data-stat=\"losses\">34</td></tr>\n",
       "<tr class=\"full_table\" data-row=\"6\"><th class=\"left\" data-stat=\"team_name\" scope=\"row\"><a href=\"/teams/MIN/2022.html\" title=\"Minnesota Timberwolves\">MIN</a> * <span class=\"seed\">(7) </span></th><td class=\"center\" data-stat=\"franchise_text\"><a href=\"/teams/MIN/\" title=\"Minnesota Timberwolves Franchise Index\">F</a></td><td class=\"right\" data-stat=\"payroll_text\"><a href=\"/contracts/MIN.html\" title=\"Minnesota Timberwolves Team Payroll\">$</a></td><td class=\"right\" data-stat=\"wins\">46</td><td class=\"right\" data-stat=\"losses\">36</td></tr>\n",
       "<tr class=\"full_table\" data-row=\"7\"><th class=\"left\" data-stat=\"team_name\" scope=\"row\"><a href=\"/teams/LAC/2022.html\" title=\"Los Angeles Clippers\">LAC</a> x <span class=\"seed\">(8) </span></th><td class=\"center\" data-stat=\"franchise_text\"><a href=\"/teams/LAC/\" title=\"Los Angeles Clippers Franchise Index\">F</a></td><td class=\"right\" data-stat=\"payroll_text\"><a href=\"/contracts/LAC.html\" title=\"Los Angeles Clippers Team Payroll\">$</a></td><td class=\"right\" data-stat=\"wins\">42</td><td class=\"right\" data-stat=\"losses\">40</td></tr>\n",
       "<tr class=\"full_table\" data-row=\"8\"><th class=\"left\" data-stat=\"team_name\" scope=\"row\"><a href=\"/teams/NOP/2022.html\" title=\"New Orleans Pelicans\">NOP</a> * <span class=\"seed\">(9) </span></th><td class=\"center\" data-stat=\"franchise_text\"><a href=\"/teams/NOH/\" title=\"New Orleans Pelicans Franchise Index\">F</a></td><td class=\"right\" data-stat=\"payroll_text\"><a href=\"/contracts/NOP.html\" title=\"New Orleans Pelicans Team Payroll\">$</a></td><td class=\"right\" data-stat=\"wins\">36</td><td class=\"right\" data-stat=\"losses\">46</td></tr>\n",
       "<tr class=\"full_table\" data-row=\"9\"><th class=\"left\" data-stat=\"team_name\" scope=\"row\"><a href=\"/teams/SAS/2022.html\" title=\"San Antonio Spurs\">SAS</a> x <span class=\"seed\">(10) </span></th><td class=\"center\" data-stat=\"franchise_text\"><a href=\"/teams/SAS/\" title=\"San Antonio Spurs Franchise Index\">F</a></td><td class=\"right\" data-stat=\"payroll_text\"><a href=\"/contracts/SAS.html\" title=\"San Antonio Spurs Team Payroll\">$</a></td><td class=\"right\" data-stat=\"wins\">34</td><td class=\"right\" data-stat=\"losses\">48</td></tr>\n",
       "<tr class=\"full_table\" data-row=\"10\"><th class=\"left\" data-stat=\"team_name\" scope=\"row\"><a href=\"/teams/LAL/2022.html\" title=\"Los Angeles Lakers\">LAL</a> x <span class=\"seed\">(11) </span></th><td class=\"center\" data-stat=\"franchise_text\"><a href=\"/teams/LAL/\" title=\"Los Angeles Lakers Franchise Index\">F</a></td><td class=\"right\" data-stat=\"payroll_text\"><a href=\"/contracts/LAL.html\" title=\"Los Angeles Lakers Team Payroll\">$</a></td><td class=\"right\" data-stat=\"wins\">33</td><td class=\"right\" data-stat=\"losses\">49</td></tr>\n",
       "<tr class=\"full_table\" data-row=\"11\"><th class=\"left\" data-stat=\"team_name\" scope=\"row\"><a href=\"/teams/SAC/2022.html\" title=\"Sacramento Kings\">SAC</a> x <span class=\"seed\">(12) </span></th><td class=\"center\" data-stat=\"franchise_text\"><a href=\"/teams/SAC/\" title=\"Sacramento Kings Franchise Index\">F</a></td><td class=\"right\" data-stat=\"payroll_text\"><a href=\"/contracts/SAC.html\" title=\"Sacramento Kings Team Payroll\">$</a></td><td class=\"right\" data-stat=\"wins\">30</td><td class=\"right\" data-stat=\"losses\">52</td></tr>\n",
       "<tr class=\"full_table\" data-row=\"12\"><th class=\"left\" data-stat=\"team_name\" scope=\"row\"><a href=\"/teams/POR/2022.html\" title=\"Portland Trail Blazers\">POR</a> x <span class=\"seed\">(13) </span></th><td class=\"center\" data-stat=\"franchise_text\"><a href=\"/teams/POR/\" title=\"Portland Trail Blazers Franchise Index\">F</a></td><td class=\"right\" data-stat=\"payroll_text\"><a href=\"/contracts/POR.html\" title=\"Portland Trail Blazers Team Payroll\">$</a></td><td class=\"right\" data-stat=\"wins\">27</td><td class=\"right\" data-stat=\"losses\">55</td></tr>\n",
       "<tr class=\"full_table\" data-row=\"13\"><th class=\"left\" data-stat=\"team_name\" scope=\"row\"><a href=\"/teams/OKC/2022.html\" title=\"Oklahoma City Thunder\">OKC</a> x <span class=\"seed\">(14) </span></th><td class=\"center\" data-stat=\"franchise_text\"><a href=\"/teams/OKC/\" title=\"Oklahoma City Thunder Franchise Index\">F</a></td><td class=\"right\" data-stat=\"payroll_text\"><a href=\"/contracts/OKC.html\" title=\"Oklahoma City Thunder Team Payroll\">$</a></td><td class=\"right\" data-stat=\"wins\">24</td><td class=\"right\" data-stat=\"losses\">58</td></tr>\n",
       "<tr class=\"full_table\" data-row=\"14\"><th class=\"left\" data-stat=\"team_name\" scope=\"row\"><a href=\"/teams/HOU/2022.html\" title=\"Houston Rockets\">HOU</a> x <span class=\"seed\">(15) </span></th><td class=\"center\" data-stat=\"franchise_text\"><a href=\"/teams/HOU/\" title=\"Houston Rockets Franchise Index\">F</a></td><td class=\"right\" data-stat=\"payroll_text\"><a href=\"/contracts/HOU.html\" title=\"Houston Rockets Team Payroll\">$</a></td><td class=\"right\" data-stat=\"wins\">20</td><td class=\"right\" data-stat=\"losses\">62</td></tr>\n",
       "</tbody></table>\n",
       "</div>\n",
       "</div>\n",
       "</div><div class=\"table_wrapper\">\n",
       "<p><small>* - Clinched playoffs; x - Eliminated</small></p>\n",
       "<p><small>\n",
       "<strong>\n",
       "    » See <a href=\"/friv/standings.fcgi\">standings as of any historical date</a>\n",
       "</strong>\n",
       "</small></p>\n",
       "</div>\n",
       "<!-- confs summary -->\n",
       "<p><strong><a href=\"/friv/playoff_prob.html\">Playoff Probabilities:</a></strong></p>\n",
       "<p>East: <a href=\"/teams/MIA/2022.html\">MIA</a> - Div (100.0%), Conf (36.7%), Win Finals (13.2%)</p>\n",
       "<p>West: <a href=\"/teams/PHO/2022.html\">PHO</a> - Div (100.0%), Conf (55.4%), Win Finals (34.5%)</p>\n",
       "<!-- draft projection -->\n",
       "<p>Projected Draft Order: <a href=\"/teams/HOU/2022.html\">HOU</a>, <a href=\"/teams/ORL/2022.html\">ORL</a>, <a href=\"/teams/DET/2022.html\">DET</a>, <a href=\"/teams/OKC/2022.html\">OKC</a>, <a href=\"/teams/IND/2022.html\">IND</a>, <a href=\"/friv/proj_draft.html\">more</a></p>\n",
       "<!-- mvp tracker -->\n",
       "<p><strong><a href=\"/friv/mvp.html\">MVP Tracker:</a></strong> <a href=\"/players/j/jokicni01.html\">Nikola Jokić</a> 43.5%, <a href=\"/players/a/antetgi01.html\">Giannis Antetokounmpo</a> 24.3%, <a href=\"/players/e/embiijo01.html\">Joel Embiid</a> 12.4%, <a href=\"/players/p/paulch01.html\">Chris Paul</a> 5.4%, <a href=\"/players/d/doncilu01.html\">Luka Dončić</a> 4.5%</p>\n",
       "<br/>\n",
       "<form action=\"/route.cgi\" class=\"srbasic sr_goto no-deserialize concat\" data-hs-cf-bound=\"true\" method=\"get\">\n",
       "<strong>Select Team Page:</strong>\n",
       "<div class=\"fieldset\">\n",
       "<div class=\"formfield\">\n",
       "<select class=\"sr_pages_nav no_chosen\" id=\"select_team\" name=\"1\">\n",
       "<option disabled=\"disabled\" selected=\"selected\" value=\"\">Choose a team</option>\n",
       "<option value=\"/teams/ATL\">Atlanta Hawks</option>\n",
       "<option value=\"/teams/BOS\">Boston Celtics</option>\n",
       "<option value=\"/teams/BRK\">Brooklyn Nets</option>\n",
       "<option value=\"/teams/CHI\">Chicago Bulls</option>\n",
       "<option value=\"/teams/CHO\">Charlotte Hornets</option>\n",
       "<option value=\"/teams/CLE\">Cleveland Cavaliers</option>\n",
       "<option value=\"/teams/DAL\">Dallas Mavericks</option>\n",
       "<option value=\"/teams/DEN\">Denver Nuggets</option>\n",
       "<option value=\"/teams/DET\">Detroit Pistons</option>\n",
       "<option value=\"/teams/GSW\">Golden State Warriors</option>\n",
       "<option value=\"/teams/HOU\">Houston Rockets</option>\n",
       "<option value=\"/teams/IND\">Indiana Pacers</option>\n",
       "<option value=\"/teams/LAC\">Los Angeles Clippers</option>\n",
       "<option value=\"/teams/LAL\">Los Angeles Lakers</option>\n",
       "<option value=\"/teams/MEM\">Memphis Grizzlies</option>\n",
       "<option value=\"/teams/MIA\">Miami Heat</option>\n",
       "<option value=\"/teams/MIL\">Milwaukee Bucks</option>\n",
       "<option value=\"/teams/MIN\">Minnesota Timberwolves</option>\n",
       "<option value=\"/teams/NOP\">New Orleans Pelicans</option>\n",
       "<option value=\"/teams/NYK\">New York Knicks</option>\n",
       "<option value=\"/teams/OKC\">Oklahoma City Thunder</option>\n",
       "<option value=\"/teams/ORL\">Orlando Magic</option>\n",
       "<option value=\"/teams/PHI\">Philadelphia 76ers</option>\n",
       "<option value=\"/teams/PHO\">Phoenix Suns</option>\n",
       "<option value=\"/teams/POR\">Portland Trail Blazers</option>\n",
       "<option value=\"/teams/SAC\">Sacramento Kings</option>\n",
       "<option value=\"/teams/SAS\">San Antonio Spurs</option>\n",
       "<option value=\"/teams/TOR\">Toronto Raptors</option>\n",
       "<option value=\"/teams/UTA\">Utah Jazz</option>\n",
       "<option value=\"/teams/WAS\">Washington Wizards</option>\n",
       "</select>\n",
       "</div>\n",
       "</div>\n",
       "<div class=\"fieldset\">\n",
       "<div class=\"formfield\">\n",
       "<select class=\"sr_pages_nav no_chosen\" id=\"select_team_page\" name=\"2\">\n",
       "<option disabled=\"disabled\" selected=\"selected\" value=\"\">... then a page</option>\n",
       "<option value=\"/\">Franchise Index</option>\n",
       "<option value=\"/2022.html\">2021-22 Roster &amp; Stats</option>\n",
       "<option value=\"/2022_games.html\">2021-22 Schedule &amp; Results</option>\n",
       "<option value=\"/2022_transactions.html\">2021-22 Transactions</option>\n",
       "<option value=\"/2022/gamelog/\">2021-22 Game Log</option>\n",
       "<option value=\"/2019.html\">2018-19 Roster &amp; Stats</option>\n",
       "<option value=\"/2020.html\">2019-20 Roster &amp; Stats</option>\n",
       "<option value=\"/2021.html\">2020-21 Roster &amp; Stats</option>\n",
       "<option disabled=\"disabled\" value=\"\">All-Time Franchise Pages</option>\n",
       "<option value=\"/leaders_career.html\">Career Leaders</option>\n",
       "<option value=\"/leaders_season.html\">Season Leaders</option>\n",
       "<option value=\"/players.html\">Historical Players</option>\n",
       "<option value=\"/coaches.html\">Historical Coaches</option>\n",
       "<option value=\"/executives.html\">Historical Executives</option>\n",
       "<option value=\"/draft.html\">Draft History</option>\n",
       "<option value=\"/numbers.html\">Uniform Numbers</option>\n",
       "</select>\n",
       "</div>\n",
       "</div>\n",
       "<div class=\"fieldset\">\n",
       "<div class=\"formfield\"><input id=\"go_button_151\" name=\"go_button\" type=\"submit\" value=\"Go!\"/></div>\n",
       "</div>\n",
       "</form>\n",
       "<p class=\"note\">Team pages include statistics, rosters, payroll, schedules, game logs, splits, advanced stats, and more.</p>\n",
       "</div>"
      ]
     },
     "execution_count": 29,
     "metadata": {},
     "output_type": "execute_result"
    }
   ],
   "source": [
    "teams = basketball_soup.find(id = 'teams')\n",
    "teams"
   ]
  },
  {
   "cell_type": "code",
   "execution_count": 34,
   "id": "afad4a09",
   "metadata": {},
   "outputs": [
    {
     "data": {
      "text/plain": [
       "<h3>2021-22 NBA Standings</h3>"
      ]
     },
     "execution_count": 34,
     "metadata": {},
     "output_type": "execute_result"
    }
   ],
   "source": [
    "standings_title = teams.find('h3')\n",
    "standings_title"
   ]
  },
  {
   "cell_type": "code",
   "execution_count": 35,
   "id": "c37aecb8",
   "metadata": {},
   "outputs": [
    {
     "data": {
      "text/plain": [
       "'2021-22 NBA Standings'"
      ]
     },
     "execution_count": 35,
     "metadata": {},
     "output_type": "execute_result"
    }
   ],
   "source": [
    "standings_title.text"
   ]
  },
  {
   "cell_type": "code",
   "execution_count": null,
   "id": "5a562d85",
   "metadata": {},
   "outputs": [],
   "source": []
  }
 ],
 "metadata": {
  "kernelspec": {
   "display_name": "PythonData",
   "language": "python",
   "name": "pythondata"
  },
  "language_info": {
   "codemirror_mode": {
    "name": "ipython",
    "version": 3
   },
   "file_extension": ".py",
   "mimetype": "text/x-python",
   "name": "python",
   "nbconvert_exporter": "python",
   "pygments_lexer": "ipython3",
   "version": "3.9.7"
  }
 },
 "nbformat": 4,
 "nbformat_minor": 5
}
